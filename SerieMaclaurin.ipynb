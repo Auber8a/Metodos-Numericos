{
 "cells": [
  {
   "cell_type": "raw",
   "metadata": {},
   "source": [
    "---\n",
    "title: \"Tarea 03 - Ejercicios Unidad 01\"\n",
    "author: \"Aubertin Ochoa\"\n",
    "lang: es\n",
    "format: \n",
    "  pdf:\n",
    "    toc: true\n",
    "    toc-title: \"Tabla de Contenidos\"  \n",
    "execute:\n",
    "  echo: true\n",
    "  error: false\n",
    "  warning: false\n",
    "jupyter: python3\n",
    "bibliography: ref.bib\n",
    "link-citations: true\n",
    "---"
   ]
  },
  {
   "cell_type": "markdown",
   "metadata": {},
   "source": [
    "## <center> Escuela Politécnica Nacional   \n",
    "## <center>Ingeniería de Ciencias de la Computación   \n",
    "## <center> Métodos Numéticos   \n",
    "### Aubertin Ochoa\n",
    "### 30/10/2024"
   ]
  },
  {
   "cell_type": "markdown",
   "metadata": {},
   "source": [
    "\n",
    "[Link GITHUB](https://github.com/Auber8a/Metodos-Numericos.git)\n",
    "\n",
    " La serie de Maclaurin para la función arcotangente converge para -1 ≤ x ≤ 1 y está dada por:\n",
    "\n",
    "$$\\arctan x = \\lim_{{n \\to \\infty}} P_n(x) = \\lim_{{n \\to \\infty}} \\sum_{{i=0}}^n \\frac{{(-1)^i \\cdot x^{2i+1}}}{{2i+1}}$$\n",
    "\n",
    " a. Utilice el hecho de que tan $\\frac{\\pi}{4}$ = 1  para determinar el número de términos de la serie que se necesita sumar para garantizar que $|4P_n(1) - {\\pi}| < 10^{-3}$\n",
    "\n",
    "El numero de terminos requeridos es = 1000\n",
    "\n",
    "### b. El lenguaje de programación C++ requiere que el valor de $\\pi$ se encuentre dentro de $10^{-8}$. ¿Cuántos términos de la serie se necesitarían sumar para obtener este grado de precisión?"
   ]
  },
  {
   "cell_type": "code",
   "execution_count": 1,
   "metadata": {},
   "outputs": [
    {
     "name": "stdout",
     "output_type": "stream",
     "text": [
      "El numero de terminos requeridos es: 1000\n",
      "Aproximacion de pi: 3.140592653839794\n",
      "Valor real: 3.141592653589793\n",
      "Error: 0.000999999749998981\n"
     ]
    }
   ],
   "source": [
    "import math\n",
    "\n",
    "def maclaurinArctan(x, n):\n",
    "    sum = 0.0\n",
    "    for i in range(n):\n",
    "        term = ((-1)**i) * (x**(2*i + 1)) / (2*i + 1)\n",
    "        sum += term\n",
    "    return sum\n",
    "\n",
    "#Tolerancia\n",
    "Tolerancia = 1e-3\n",
    "ValorPi = math.pi\n",
    "x=1\n",
    "\n",
    "n=1\n",
    "while True:\n",
    "    P = maclaurinArctan(x, n)\n",
    "    aproximacion = 4 * P\n",
    "    error = abs(aproximacion - ValorPi)\n",
    "    if error < Tolerancia:\n",
    "        break\n",
    "    n += 1\n",
    "\n",
    "print(f\"El numero de terminos requeridos es: {n}\")\n",
    "print(f\"Aproximacion de pi: {aproximacion}\")\n",
    "print(f\"Valor real: {ValorPi}\")\n",
    "print(f\"Error: {error}\")"
   ]
  },
  {
   "cell_type": "markdown",
   "metadata": {},
   "source": [
    "Otra fórmula para calcular π se puede deducir a partir de la identidad: $\\frac{\\pi}{4}$ =$4\\arctan\\left(\\frac{1}{5}\\right)$ - $\\arctan\\left(\\frac{1}{239}\\right)$.    \n",
    "Determine el número de términos que se deben sumar para garantizar una aproximación dentro de \\(10^{-1}\\) de \\(π^2\\).\n"
   ]
  },
  {
   "cell_type": "code",
   "execution_count": 2,
   "metadata": {},
   "outputs": [
    {
     "name": "stdout",
     "output_type": "stream",
     "text": [
      "El numero de terminos requeridos es: 2\n"
     ]
    }
   ],
   "source": [
    "import math\n",
    "\n",
    "def maclaurinArctan(x, n):\n",
    "    sum = 0.0\n",
    "    for i in range(n):\n",
    "        term = ((-1)**i) * (x**(2*i + 1)) / (2*i + 1)\n",
    "        sum += term\n",
    "    return sum\n",
    "\n",
    "#Tolerancia\n",
    "Tolerancia = 1e-3\n",
    "ValorPi = math.pi\n",
    "x=1\n",
    "\n",
    "n=1\n",
    "while True:\n",
    "    arctan1_5 = maclaurinArctan(1/5, n)\n",
    "    arctan1_239 = maclaurinArctan(1/239, n)\n",
    "    aproximacion = 4 * (4 * arctan1_5 - arctan1_239)\n",
    "    error = abs(aproximacion - ValorPi)\n",
    "    if error < Tolerancia:\n",
    "        break\n",
    "    n += 1\n",
    "\n",
    "print(f\"El numero de terminos requeridos es: {n}\")"
   ]
  },
  {
   "cell_type": "markdown",
   "metadata": {},
   "source": [
    "###  a. ¿Cuántas multiplicaciones y sumas se requieren para determinar una suma de la forma\n",
    "$$\\sum_{i=1}^{n} \\sum_{j=1}^{i} a_i \\cdot b_j$$"
   ]
  },
  {
   "cell_type": "code",
   "execution_count": 3,
   "metadata": {},
   "outputs": [
    {
     "name": "stdout",
     "output_type": "stream",
     "text": [
      "Suma de productos: 63\n"
     ]
    }
   ],
   "source": [
    "def sumaProductos(a, b):\n",
    "    sumaTotal = 0\n",
    "    n = len(a)\n",
    "\n",
    "    for i in range(n):\n",
    "        for j in range(n):\n",
    "            sumaTotal += a[i] + b[j]\n",
    "    return sumaTotal\n",
    "\n",
    "a = [1, 4, 3]\n",
    "b = [2, 5, 6]\n",
    "\n",
    "print(f\"Suma de productos: {sumaProductos(a, b)}\")"
   ]
  },
  {
   "cell_type": "markdown",
   "metadata": {},
   "source": [
    "### b. Modifique la suma en la parte a) a un formato equivalente que reduzca el número de cálculos.\n",
    "Para el uso de este tipo de sumatoria se podría reducir el código, pero dependería del valor que tome n desde un inicio"
   ]
  },
  {
   "cell_type": "markdown",
   "metadata": {},
   "source": [
    "## Discuciones\n",
    "### 2. Las ecuaciones (1.2) y (1.3) en la sección 1.2 proporcionan formas alternativas para las raíces ( x1 ) y ( x2 ) de: $ax^2 + bx + c = 0$. Construya un algoritmo con entrada ( a, b, c ) y salida ( x1, x2 ) que calcule las raíces ( x1 ) y ( x2 ) (que pueden ser iguales o conjugados complejos) mediante la mejor fórmula para cada raíz. \n"
   ]
  },
  {
   "cell_type": "code",
   "execution_count": 2,
   "metadata": {},
   "outputs": [
    {
     "name": "stdin",
     "output_type": "stream",
     "text": [
      "Ingrese el valor de a:  2\n",
      "Ingrese el valor de b:  5\n",
      "Ingrese el valor de c:  3\n"
     ]
    },
    {
     "name": "stdout",
     "output_type": "stream",
     "text": [
      "Las raíces son: x1 = (-1+0j) y x2 = (-1.5+0j)\n"
     ]
    }
   ],
   "source": [
    "import cmath\n",
    "\n",
    "def calcular_raices(a, b, c):\n",
    "    discriminante = b**2 - 4 * a * c\n",
    "    \n",
    "    # Calculamos las raíces usando la fórmula cuadrática\n",
    "    x1 = (-b + cmath.sqrt(discriminante)) / (2 * a)\n",
    "    x2 = (-b - cmath.sqrt(discriminante)) / (2 * a)\n",
    "    \n",
    "    return x1, x2\n",
    "\n",
    "# Ejemplo de uso\n",
    "a = float(input(\"Ingrese el valor de a: \"))\n",
    "b = float(input(\"Ingrese el valor de b: \"))\n",
    "c = float(input(\"Ingrese el valor de c: \"))\n",
    "\n",
    "x1, x2 = calcular_raices(a, b, c)\n",
    "print(f\"Las raíces son: x1 = {x1} y x2 = {x2}\")"
   ]
  }
 ],
 "metadata": {
  "kernelspec": {
   "display_name": "Python 3 (ipykernel)",
   "language": "python",
   "name": "python3"
  },
  "language_info": {
   "codemirror_mode": {
    "name": "ipython",
    "version": 3
   },
   "file_extension": ".py",
   "mimetype": "text/x-python",
   "name": "python",
   "nbconvert_exporter": "python",
   "pygments_lexer": "ipython3",
   "version": "3.11.7"
  }
 },
 "nbformat": 4,
 "nbformat_minor": 4
}
