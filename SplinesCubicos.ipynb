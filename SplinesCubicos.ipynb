{
 "cells": [
  {
   "cell_type": "markdown",
   "metadata": {},
   "source": [
    "##   Escuela Politécnica Nacional   \n",
    "## Ingeniería de Ciencias de la Computación   \n",
    "##  Métodos Numéricos   \n",
    "### Splines Cúbicos\n",
    "### Aubertin Ochoa          \n",
    "### 27/11/2024\n",
    "\n",
    "[Link GITHUB](https://github.com/Auber8a/Metodos-Numericos/blob/a34eb5a500b1d0e9234fa9d3006abcd58dd11bdf/SplinesCubicos.ipynb) "
   ]
  },
  {
   "cell_type": "markdown",
   "metadata": {},
   "source": [
    "## <span style=\"color:orange\"> *Ejercicios Propuestos* </span>\n",
    "## <span style=\"color:orange\"> *Diríjase al pseudocódigo del spline cúbico con frontera natural provisto en clase, en base a ese pseudocódigo complete la siguiente función:* </span>      \n",
    "\n"
   ]
  },
  {
   "cell_type": "code",
   "execution_count": 7,
   "metadata": {},
   "outputs": [],
   "source": [
    "import sympy as sym\n",
    "from IPython.display import display\n",
    "\n",
    "def cubic_spline(xs: list[float], ys: list[float]) -> list[sym.Symbol]:\n",
    "\n",
    "    points = sorted(zip(xs, ys), key=lambda x: x[0])  \n",
    "\n",
    "    xs = [x for x, _ in points]\n",
    "    ys = [y for _, y in points]\n",
    "\n",
    "    n = len(points) - 1  \n",
    "    h = [xs[i + 1] - xs[i] for i in range(n)] \n",
    "\n",
    "    \n",
    "    alpha = [0] * (n+1) \n",
    "    for i in range(1, n):\n",
    "        alpha[i] = 3 / h[i] * (ys[i + 1] - ys[i]) - 3 / h[i - 1] * (ys[i] - ys[i - 1])\n",
    "\n",
    "    l = [1] * (n+1)\n",
    "    u = [0] * (n+1)\n",
    "    z = [0] * (n + 1)\n",
    "\n",
    "    for i in range(1, n):\n",
    "        l[i] = 2 * (xs[i + 1] - xs[i - 1]) - h[i - 1] * u[i - 1]\n",
    "        u[i] = h[i] / l[i]\n",
    "        z[i] = (alpha[i] - h[i - 1] * z[i - 1]) / l[i]\n",
    "\n",
    "    l.append(1)\n",
    "    z.append(0)\n",
    "    c = [0] * (n + 1)\n",
    "\n",
    "    x = sym.Symbol(\"x\")\n",
    "    splines = []\n",
    "    for j in range(n - 1, -1, -1):\n",
    "        c[j] = z[j] - u[j] * c[j + 1]\n",
    "        b = (ys[j + 1] - ys[j]) / h[j] - h[j] * (c[j + 1] + 2 * c[j]) / 3\n",
    "        d = (c[j + 1] - c[j]) / (3 * h[j])\n",
    "        a = ys[i]\n",
    "        print(j, a, b, c[j], d)\n",
    "        S = a + b * (x - xs[j]) + c[j] * (x - xs[j])**2 + d * (x - xs[j])**3\n",
    "\n",
    "        splines.append(S)\n",
    "    splines.reverse()\n",
    "    return splines"
   ]
  },
  {
   "cell_type": "markdown",
   "metadata": {},
   "source": [
    "## <span style=\"color:orange\"> *Usando la función anterior, encuentre el spline cúbico para* </span>\n",
    "\n",
    "## <span style=\"color:orange\"> *xs = [1, 2, 3]* </span>\n",
    "\n",
    "## <span style=\"color:orange\"> *ys = [2, 3, 5]* </span>"
   ]
  },
  {
   "cell_type": "code",
   "execution_count": 8,
   "metadata": {},
   "outputs": [
    {
     "name": "stdout",
     "output_type": "stream",
     "text": [
      "1 3 1.5 0.75 -0.25\n",
      "0 3 0.75 0.0 0.25\n"
     ]
    },
    {
     "data": {
      "text/latex": [
       "$\\displaystyle 0.75 x + 0.25 \\left(x - 1\\right)^{3} + 2.25$"
      ],
      "text/plain": [
       "0.75*x + 0.25*(x - 1)**3 + 2.25"
      ]
     },
     "metadata": {},
     "output_type": "display_data"
    },
    {
     "data": {
      "text/latex": [
       "$\\displaystyle 1.5 x - 0.25 \\left(x - 2\\right)^{3} + 0.75 \\left(x - 2\\right)^{2}$"
      ],
      "text/plain": [
       "1.5*x - 0.25*(x - 2)**3 + 0.75*(x - 2)**2"
      ]
     },
     "metadata": {},
     "output_type": "display_data"
    },
    {
     "name": "stdout",
     "output_type": "stream",
     "text": [
      "______\n"
     ]
    },
    {
     "data": {
      "text/latex": [
       "$\\displaystyle 0.25 x^{3} - 0.75 x^{2} + 1.5 x + 2.0$"
      ],
      "text/plain": [
       "0.25*x**3 - 0.75*x**2 + 1.5*x + 2.0"
      ]
     },
     "metadata": {},
     "output_type": "display_data"
    },
    {
     "data": {
      "text/latex": [
       "$\\displaystyle - 0.25 x^{3} + 2.25 x^{2} - 4.5 x + 5.0$"
      ],
      "text/plain": [
       "-0.25*x**3 + 2.25*x**2 - 4.5*x + 5.0"
      ]
     },
     "metadata": {},
     "output_type": "display_data"
    }
   ],
   "source": [
    "xs = [1, 2, 3]\n",
    "ys = [2, 3, 5]\n",
    "\n",
    "splines = cubic_spline(xs=xs, ys=ys)\n",
    "_ = [display(s) for s in splines]\n",
    "print(\"______\")\n",
    "_ = [display(s.expand()) for s in splines]"
   ]
  }
 ],
 "metadata": {
  "kernelspec": {
   "display_name": "Python 3",
   "language": "python",
   "name": "python3"
  },
  "language_info": {
   "codemirror_mode": {
    "name": "ipython",
    "version": 3
   },
   "file_extension": ".py",
   "mimetype": "text/x-python",
   "name": "python",
   "nbconvert_exporter": "python",
   "pygments_lexer": "ipython3",
   "version": "3.12.5"
  }
 },
 "nbformat": 4,
 "nbformat_minor": 2
}
